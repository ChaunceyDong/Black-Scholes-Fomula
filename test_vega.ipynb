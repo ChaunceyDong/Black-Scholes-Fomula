{
 "cells": [
  {
   "cell_type": "code",
   "execution_count": 21,
   "metadata": {},
   "outputs": [],
   "source": [
    "import tushare as ts\n",
    "import numpy as np\n",
    "import pandas as pd\n",
    "import matplotlib.pyplot as plt\n",
    "import scipy.stats as ss\n",
    "import tushare as ts\n",
    "from datetime import datetime, timedelta\n",
    "import time\n",
    "from scipy import stats"
   ]
  },
  {
   "cell_type": "code",
   "execution_count": 52,
   "metadata": {},
   "outputs": [],
   "source": [
    "k = 2.651\n",
    "sigma = v = 0.5\n",
    "option_type, S0, K, r, T, real_price = 'C', 2.873, k, 0.043103, 0.665753, 0.2613\n",
    "t = T"
   ]
  },
  {
   "cell_type": "markdown",
   "metadata": {},
   "source": [
    "# Py文件中的第二个"
   ]
  },
  {
   "cell_type": "code",
   "execution_count": 23,
   "metadata": {},
   "outputs": [],
   "source": [
    "def bs_vega(option_type, S, K, r, T, v): # dPi/dSigma\n",
    "    d1 = (np.log(S / K) + (r + v * v / 2.) * T) / (v * np.sqrt(T))\n",
    "    return S * np.sqrt(T) * ss.norm.cdf(d1)"
   ]
  },
  {
   "cell_type": "code",
   "execution_count": 24,
   "metadata": {
    "scrolled": true
   },
   "outputs": [
    {
     "data": {
      "text/plain": [
       "1.597185150963246"
      ]
     },
     "execution_count": 24,
     "metadata": {},
     "output_type": "execute_result"
    }
   ],
   "source": [
    "bs_vega(option_type, S0, K, r, T, sigma)"
   ]
  },
  {
   "cell_type": "code",
   "execution_count": 49,
   "metadata": {},
   "outputs": [
    {
     "name": "stdout",
     "output_type": "stream",
     "text": [
      "d1\n"
     ]
    },
    {
     "data": {
      "text/plain": [
       "0.47144560523968687"
      ]
     },
     "execution_count": 49,
     "metadata": {},
     "output_type": "execute_result"
    }
   ],
   "source": [
    "print('d1')\n",
    "(np.log(S0 / K) + (r + v * v / 2.) * T) / (v * np.sqrt(T))"
   ]
  },
  {
   "cell_type": "markdown",
   "metadata": {
    "heading_collapsed": true
   },
   "source": [
    "# volatility_smile的"
   ]
  },
  {
   "cell_type": "markdown",
   "metadata": {
    "hidden": true
   },
   "source": [
    "D1和别人不一样"
   ]
  },
  {
   "cell_type": "code",
   "execution_count": 38,
   "metadata": {
    "hidden": true,
    "scrolled": true
   },
   "outputs": [],
   "source": [
    "#根据公式计算期权价值\n",
    "sqrt = np.sqrt\n",
    "exp = np.exp\n",
    "def bsm_call_value(s0,k,t,r,sigma):\n",
    "    d1 = ( log( s0/k ) + ( r + 0.5*sigma**2 )*t )/( sigma*sqrt(t) )\n",
    "    d2 = ( log( s0/k ) + ( r - 0.5*sigma**2 )*t )/( sigma*sqrt(t) )\n",
    "    value = ( s0*stats.norm.cdf( d1,0.,1. ) - k*exp( -r*t )*stats.norm.cdf( d2,0.,1 ))\n",
    "    #print('cvalue',value)\n",
    "    return value\n",
    "\n",
    "#求vega\n",
    "def bsm_vega_smile(s0,k,t,r,sigma):\n",
    "    d1 = np.log( s0/k ) + ( r + 0.5*sigma**2 )*t/( sigma*sqrt(t) )\n",
    "    vega = s0*stats.norm.cdf(d1,0.,1.)*sqrt(t)\n",
    "    #print('vega',vega)\n",
    "    return vega\n",
    "\n"
   ]
  },
  {
   "cell_type": "code",
   "execution_count": 39,
   "metadata": {
    "hidden": true
   },
   "outputs": [
    {
     "data": {
      "text/plain": [
       "0.6042917319951102"
      ]
     },
     "execution_count": 39,
     "metadata": {},
     "output_type": "execute_result"
    }
   ],
   "source": [
    "bsm_call_value(S0,K,T,r,sigma)"
   ]
  },
  {
   "cell_type": "code",
   "execution_count": 40,
   "metadata": {
    "hidden": true
   },
   "outputs": [
    {
     "data": {
      "text/plain": [
       "1.4970183102351935"
      ]
     },
     "execution_count": 40,
     "metadata": {},
     "output_type": "execute_result"
    }
   ],
   "source": [
    "bsm_vega_smile(S0,K,T,r,sigma)"
   ]
  },
  {
   "cell_type": "code",
   "execution_count": 53,
   "metadata": {
    "hidden": true
   },
   "outputs": [
    {
     "data": {
      "text/plain": [
       "0.354742728986045"
      ]
     },
     "execution_count": 53,
     "metadata": {},
     "output_type": "execute_result"
    }
   ],
   "source": [
    "np.log(S0/k ) + ( r + 0.5*sigma**2 )*t/( sigma*sqrt(t) )"
   ]
  },
  {
   "cell_type": "markdown",
   "metadata": {},
   "source": [
    "# Vol 最全的那个"
   ]
  },
  {
   "cell_type": "code",
   "execution_count": 41,
   "metadata": {},
   "outputs": [],
   "source": [
    "log = np.log\n",
    "norm = ss.norm\n",
    "\n",
    "def bs_value(S0, K, r, sigma, T):\n",
    "    '''\n",
    "    计算欧式看涨期权的价格\n",
    "    Parameters:\n",
    "        S0:\n",
    "            期初价格\n",
    "        K:\n",
    "            执行价格\n",
    "        r:\n",
    "            无风险利率\n",
    "        sigma:\n",
    "            波动率\n",
    "        T:\n",
    "            期权的期限，以年为单位\n",
    "    Returns:\n",
    "        期权的B-S价格            \n",
    "    '''\n",
    "    d1 = (log(S0 / K) + (r + 0.5 * sigma**2) * T) / (sigma * sqrt(T))\n",
    "    d2 = d1 - sigma * sqrt(T)\n",
    "    return S0 * norm.cdf(d1) - K * exp(-r * T) * norm.cdf(d2)           \n",
    "\n",
    "def bs_vega_quan(S0, K, r, sigma, T):\n",
    "    '''\n",
    "    计算期权的vega\n",
    "    '''\n",
    "    d1 = (log(S0 / K) + (r + 0.5 * sigma**2) * T) / (sigma * sqrt(T))\n",
    "    return S0 * norm.pdf(d1) * sqrt(T)\n",
    "\n",
    "\n"
   ]
  },
  {
   "cell_type": "code",
   "execution_count": 56,
   "metadata": {},
   "outputs": [
    {
     "data": {
      "text/plain": [
       "0.6042917319951102"
      ]
     },
     "execution_count": 56,
     "metadata": {},
     "output_type": "execute_result"
    }
   ],
   "source": [
    "bs_value(S0, K, r, sigma, T)"
   ]
  },
  {
   "cell_type": "code",
   "execution_count": 57,
   "metadata": {},
   "outputs": [
    {
     "data": {
      "text/plain": [
       "0.836833204098615"
      ]
     },
     "execution_count": 57,
     "metadata": {},
     "output_type": "execute_result"
    }
   ],
   "source": [
    "bs_vega_quan(S0, K, r, sigma, T)"
   ]
  },
  {
   "cell_type": "code",
   "execution_count": 58,
   "metadata": {},
   "outputs": [
    {
     "data": {
      "text/plain": [
       "0.47144560523968687"
      ]
     },
     "execution_count": 58,
     "metadata": {},
     "output_type": "execute_result"
    }
   ],
   "source": [
    "(log(S0 / K) + (r + 0.5 * sigma**2) * T) / (sigma * sqrt(T))"
   ]
  },
  {
   "cell_type": "markdown",
   "metadata": {},
   "source": [
    "# 自己的"
   ]
  },
  {
   "cell_type": "code",
   "execution_count": 25,
   "metadata": {},
   "outputs": [],
   "source": [
    "def d1(S0, K, r, sigma, T):\n",
    "    return (np.log(S0 / K) + (r + sigma ** 2 / 2) * T) / (sigma * np.sqrt(T))\n",
    "\n",
    "\n",
    "def d2(S0, K, r, sigma, T):\n",
    "    return (np.log(S0 / K) + (r - sigma ** 2 / 2) * T) / (sigma * np.sqrt(T))\n",
    "\n",
    "\n",
    "def BlackScholes(option_type, S0, K, r, sigma, T):\n",
    "    \"\"\"\n",
    "    S0  stock price\n",
    "    K   strike price\n",
    "    r   continuously compounded risk-free rate:\n",
    "    sigma   volatility of the stock price per year\n",
    "    T   time to maturity in trading years\n",
    "\n",
    "    \"\"\"\n",
    "    if option_type == \"C\":\n",
    "        return S0 * ss.norm.cdf(d1(S0, K, r, sigma, T)) - K * np.exp(\n",
    "            -r * T) * ss.norm.cdf(d2(S0, K, r, sigma, T))\n",
    "    else:\n",
    "        return K * np.exp(-r * T) * ss.norm.cdf(-d2(\n",
    "            S0, K, r, sigma, T)) - S0 * ss.norm.cdf(-d1(S0, K, r, sigma, T))\n",
    "\n",
    "\n",
    "def bs_vega_2(option_type, S0, K, r, sigma, T):  # -dPi/dSigma\n",
    "    # d1 = d1(S0, K, r, sigma, T)\n",
    "    return S0 * np.sqrt(T) * ss.norm.pdf(d1(S0, K, r, sigma, T))"
   ]
  },
  {
   "cell_type": "code",
   "execution_count": 44,
   "metadata": {},
   "outputs": [
    {
     "data": {
      "text/plain": [
       "0.6042917319951102"
      ]
     },
     "execution_count": 44,
     "metadata": {},
     "output_type": "execute_result"
    }
   ],
   "source": [
    "BlackScholes(option_type, S0, K, r, sigma, T)"
   ]
  },
  {
   "cell_type": "code",
   "execution_count": 26,
   "metadata": {
    "scrolled": true
   },
   "outputs": [
    {
     "data": {
      "text/plain": [
       "0.7317599004090469"
      ]
     },
     "execution_count": 26,
     "metadata": {},
     "output_type": "execute_result"
    }
   ],
   "source": [
    "bs_vega_2(option_type, S0, K, r, T, sigma)"
   ]
  },
  {
   "cell_type": "code",
   "execution_count": 55,
   "metadata": {},
   "outputs": [
    {
     "data": {
      "text/plain": [
       "0.47144560523968687"
      ]
     },
     "execution_count": 55,
     "metadata": {},
     "output_type": "execute_result"
    }
   ],
   "source": [
    "d1(S0, K, r, sigma, T)"
   ]
  },
  {
   "cell_type": "code",
   "execution_count": 59,
   "metadata": {},
   "outputs": [
    {
     "data": {
      "text/plain": [
       "1.597185150963246"
      ]
     },
     "execution_count": 59,
     "metadata": {},
     "output_type": "execute_result"
    }
   ],
   "source": [
    "S0 * np.sqrt(T) * ss.norm.cdf(d1(S0, K, r, sigma, T))"
   ]
  },
  {
   "cell_type": "code",
   "execution_count": null,
   "metadata": {},
   "outputs": [],
   "source": []
  }
 ],
 "metadata": {
  "kernelspec": {
   "display_name": "python3",
   "language": "python",
   "name": "python3"
  },
  "language_info": {
   "codemirror_mode": {
    "name": "ipython",
    "version": 2
   },
   "file_extension": ".py",
   "mimetype": "text/x-python",
   "name": "python",
   "nbconvert_exporter": "python",
   "pygments_lexer": "ipython2",
   "version": "2.7.15"
  }
 },
 "nbformat": 4,
 "nbformat_minor": 2
}
